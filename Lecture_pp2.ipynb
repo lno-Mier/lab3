{
 "cells": [
  {
   "cell_type": "markdown",
   "metadata": {},
   "source": [
    "# Lecture 3 Week"
   ]
  },
  {
   "cell_type": "code",
   "execution_count": 2,
   "metadata": {},
   "outputs": [
    {
     "name": "stdout",
     "output_type": "stream",
     "text": [
      "execute order 66\n"
     ]
    }
   ],
   "source": [
    "def hw(**kwargs):\n",
    "    print(f\"execute order {kwargs[\"jedi_ex\"]}\")\n",
    "hw(auth = \"Palpatine\", jedi_ex = 66)"
   ]
  },
  {
   "cell_type": "code",
   "execution_count": 4,
   "metadata": {},
   "outputs": [],
   "source": [
    "def hw(jedi_ex = 66):\n",
    "    print(f\"execute order {jedi_ex}\")"
   ]
  },
  {
   "cell_type": "code",
   "execution_count": 6,
   "metadata": {},
   "outputs": [
    {
     "name": "stdout",
     "output_type": "stream",
     "text": [
      "execute order 55\n"
     ]
    }
   ],
   "source": [
    "hw(55)"
   ]
  },
  {
   "cell_type": "code",
   "execution_count": 7,
   "metadata": {},
   "outputs": [
    {
     "name": "stdout",
     "output_type": "stream",
     "text": [
      "execute order 66\n"
     ]
    }
   ],
   "source": [
    "hw(66)"
   ]
  },
  {
   "cell_type": "code",
   "execution_count": 8,
   "metadata": {},
   "outputs": [],
   "source": [
    "def hw(sd):\n",
    "    s = \"execute orders: \"\n",
    "    for item in sd:\n",
    "        s+=str(item)\n",
    "        s+= \", \"\n",
    "        s+= \"etc. \"\n",
    "    return s"
   ]
  },
  {
   "cell_type": "code",
   "execution_count": 9,
   "metadata": {},
   "outputs": [
    {
     "name": "stdout",
     "output_type": "stream",
     "text": [
      "execute orders: 55, etc. 66, etc. 65, etc. \n"
     ]
    }
   ],
   "source": [
    "orders = [55,66,65]\n",
    "print(hw(orders))"
   ]
  },
  {
   "cell_type": "code",
   "execution_count": 10,
   "metadata": {},
   "outputs": [
    {
     "name": "stdout",
     "output_type": "stream",
     "text": [
      "FAR: 66\n"
     ]
    }
   ],
   "source": [
    "ex = lambda x : (\"FAR: \" + str(x))\n",
    "print (ex(66))"
   ]
  },
  {
   "cell_type": "code",
   "execution_count": 15,
   "metadata": {},
   "outputs": [
    {
     "ename": "TypeError",
     "evalue": "<lambda>() takes 1 positional argument but 2 were given",
     "output_type": "error",
     "traceback": [
      "\u001b[1;31m---------------------------------------------------------------------------\u001b[0m",
      "\u001b[1;31mTypeError\u001b[0m                                 Traceback (most recent call last)",
      "Cell \u001b[1;32mIn[15], line 1\u001b[0m\n\u001b[1;32m----> 1\u001b[0m \u001b[38;5;28mprint\u001b[39m(\u001b[43mex\u001b[49m\u001b[43m(\u001b[49m\u001b[38;5;241;43m33\u001b[39;49m\u001b[43m,\u001b[49m\u001b[38;5;241;43m33\u001b[39;49m\u001b[43m)\u001b[49m)\n",
      "\u001b[1;31mTypeError\u001b[0m: <lambda>() takes 1 positional argument but 2 were given"
     ]
    }
   ],
   "source": [
    "print(ex(33,33))"
   ]
  },
  {
   "cell_type": "code",
   "execution_count": 21,
   "metadata": {},
   "outputs": [],
   "source": [
    "class Guy:\n",
    "    def __init__(self, name, age):\n",
    "        self.name = name\n",
    "        self.age = age\n",
    "\n",
    "    def __str__(self):\n",
    "        return f\"KAK TI ssd {self.name}, NO {self.age}\"\n",
    "    \n",
    "    def kill_jedi(self):\n",
    "        print(f\"AMDKSMD {self.name}\")"
   ]
  },
  {
   "cell_type": "code",
   "execution_count": null,
   "metadata": {},
   "outputs": [],
   "source": [
    "class Sith_Lord(Sith):\n",
    "    def __init__(self,name, age):\n",
    "        super().__init__(name,age)\n",
    "        self.unlimited_power = True"
   ]
  },
  {
   "cell_type": "code",
   "execution_count": 22,
   "metadata": {},
   "outputs": [
    {
     "name": "stdout",
     "output_type": "stream",
     "text": [
      "KAK TI ssd Palpatinr, NO 512\n"
     ]
    }
   ],
   "source": [
    "emp = Guy(\"Palpatinr\", 512)\n",
    "print(emp)"
   ]
  },
  {
   "cell_type": "code",
   "execution_count": 19,
   "metadata": {},
   "outputs": [
    {
     "name": "stdout",
     "output_type": "stream",
     "text": [
      "Palpatinr\n",
      "512\n"
     ]
    }
   ],
   "source": [
    "print(emp.name)\n",
    "print(emp.age)"
   ]
  },
  {
   "cell_type": "code",
   "execution_count": 48,
   "metadata": {},
   "outputs": [],
   "source": [
    "class Time:\n",
    "    def __init__(self, hor, min, sec):\n",
    "        self.hor = hor\n",
    "        self.min = min\n",
    "        self.sec = sec\n",
    "\n",
    "    def _norm_time(self):\n",
    "        self.min += self.sec // 60\n",
    "        self.sec %= 60\n",
    "\n",
    "        self.hor += self.min // 60\n",
    "        self.min %= 60\n",
    "\n",
    "        self.hor %= 24\n",
    "\n",
    "    def __str__(self):\n",
    "        rs,rm,rh = \"0\"\n",
    "        if(self.hor//10<1):\n",
    "            rh+=str(self.hor)\n",
    "        else:\n",
    "            rh = str(self.hor)\n",
    "        if(self.min//10<1):\n",
    "            rm+=str(self.min)\n",
    "        else:\n",
    "            rm = str(self.min)\n",
    "        if(self.sec//10<1):\n",
    "            rs+=str(self.sec)\n",
    "        else:\n",
    "            rs = str(self.sec)\n",
    "        return f\"In This moment {rh}:{rm}:{rs}\"\n",
    "    \n",
    "    def add_sec(self):\n",
    "        self.sec += 1\n",
    "        self._norm_time()"
   ]
  },
  {
   "cell_type": "code",
   "execution_count": 49,
   "metadata": {},
   "outputs": [
    {
     "name": "stdout",
     "output_type": "stream",
     "text": [
      "Now:  In This moment 11:59:59\n",
      "After 1 second:  In This moment 12:00:00\n"
     ]
    }
   ],
   "source": [
    "time_now = Time(11, 59, 59)\n",
    "print (\"Now: \", time_now)\n",
    "\n",
    "time_now.add_sec()\n",
    "print (\"After 1 second: \", time_now)"
   ]
  }
 ],
 "metadata": {
  "kernelspec": {
   "display_name": "Python 3",
   "language": "python",
   "name": "python3"
  },
  "language_info": {
   "codemirror_mode": {
    "name": "ipython",
    "version": 3
   },
   "file_extension": ".py",
   "mimetype": "text/x-python",
   "name": "python",
   "nbconvert_exporter": "python",
   "pygments_lexer": "ipython3",
   "version": "3.12.3"
  }
 },
 "nbformat": 4,
 "nbformat_minor": 2
}
