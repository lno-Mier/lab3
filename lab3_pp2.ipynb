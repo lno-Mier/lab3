{
 "cells": [
  {
   "cell_type": "markdown",
   "metadata": {},
   "source": [
    "# Python Class tasks"
   ]
  },
  {
   "cell_type": "markdown",
   "metadata": {},
   "source": [
    "1.1      Class with getString and printString"
   ]
  },
  {
   "cell_type": "code",
   "execution_count": 10,
   "metadata": {},
   "outputs": [
    {
     "name": "stdout",
     "output_type": "stream",
     "text": [
      "INPUT JSDBJHJFE\n"
     ]
    }
   ],
   "source": [
    "class mystr:\n",
    "    def __init__(self):\n",
    "        self.string = \"\"\n",
    "    \n",
    "    def getString(self):\n",
    "        self.string = input(\"Напишите что-то: \")\n",
    "    \n",
    "    def printString(self):\n",
    "        print(self.string.upper())\n",
    "\n",
    "obj = mystr()\n",
    "obj.getString()\n",
    "obj.printString()"
   ]
  },
  {
   "cell_type": "markdown",
   "metadata": {},
   "source": [
    "1.2 Class with Shape and her child-class Square"
   ]
  },
  {
   "cell_type": "code",
   "execution_count": 12,
   "metadata": {},
   "outputs": [
    {
     "name": "stdout",
     "output_type": "stream",
     "text": [
      "Площадь квадрата: 9025\n"
     ]
    }
   ],
   "source": [
    "class shape:\n",
    "    def area(self):\n",
    "        return 0\n",
    "\n",
    "class square(shape):\n",
    "    def __init__(self, length):\n",
    "        self.length = length\n",
    "    \n",
    "    def area(self):\n",
    "        return self.length ** 2\n",
    "\n",
    "square = square(95)\n",
    "print(f\"Площадь квадрата: {square.area()}\")"
   ]
  },
  {
   "cell_type": "markdown",
   "metadata": {},
   "source": [
    "1.3 Class Rectangle which inherits from Shape"
   ]
  },
  {
   "cell_type": "code",
   "execution_count": 4,
   "metadata": {},
   "outputs": [
    {
     "name": "stdout",
     "output_type": "stream",
     "text": [
      "Площадь прямоугольника: 24\n"
     ]
    }
   ],
   "source": [
    "class rectangle(shape):\n",
    "    def __init__(self, length, width):\n",
    "        self.length = length\n",
    "        self.width = width\n",
    "    \n",
    "    def area(self):\n",
    "        return self.length * self.width\n",
    "\n",
    "rectangle = rectangle(4, 6)\n",
    "print(f\"Площадь прямоугольника: {rectangle.area()}\")"
   ]
  },
  {
   "cell_type": "markdown",
   "metadata": {},
   "source": [
    "1.4 Class Point"
   ]
  },
  {
   "cell_type": "code",
   "execution_count": 5,
   "metadata": {},
   "outputs": [
    {
     "name": "stdout",
     "output_type": "stream",
     "text": [
      "Координаты точки: (2, 3)\n",
      "Координаты точки: (4, 6)\n",
      "Расстояние между точками: 1.4142135623730951\n"
     ]
    }
   ],
   "source": [
    "import math\n",
    "\n",
    "class Point:\n",
    "    def __init__(self, x, y):\n",
    "        self.x = x\n",
    "        self.y = y\n",
    "    \n",
    "    def show(self):\n",
    "        print(f\"Координаты точки: ({self.x}, {self.y})\")\n",
    "    \n",
    "    def move(self, x, y):\n",
    "        self.x = x\n",
    "        self.y = y\n",
    "    \n",
    "    def dist(self, other_point):\n",
    "        return math.sqrt((other_point.x - self.x) ** 2 + (other_point.y - self.y) ** 2)\n",
    "\n",
    "point1 = Point(2, 3)\n",
    "point2 = Point(5, 7)\n",
    "\n",
    "point1.show()\n",
    "point1.move(4, 6)\n",
    "point1.show()\n",
    "print(f\"Расстояние между точками: {point1.dist(point2)}\")"
   ]
  },
  {
   "cell_type": "markdown",
   "metadata": {},
   "source": [
    "1.5 Class for bank account"
   ]
  },
  {
   "cell_type": "code",
   "execution_count": 6,
   "metadata": {},
   "outputs": [
    {
     "name": "stdout",
     "output_type": "stream",
     "text": [
      "Пополнение на 500. Текущий баланс: 1500\n",
      "Снятие 300. Текущий баланс: 1200\n",
      "Недостаточно средств!\n"
     ]
    }
   ],
   "source": [
    "class Account:\n",
    "    def __init__(self, owner, balance=0):\n",
    "        self.owner = owner\n",
    "        self.balance = balance\n",
    "    \n",
    "    def deposit(self, amount):\n",
    "        self.balance += amount\n",
    "        print(f\"Пополнение на {amount}. Текущий баланс: {self.balance}\")\n",
    "    \n",
    "    def withdraw(self, amount):\n",
    "        if amount > self.balance:\n",
    "            print(\"Недостаточно средств!\")\n",
    "        else:\n",
    "            self.balance -= amount\n",
    "            print(f\"Снятие {amount}. Текущий баланс: {self.balance}\")\n",
    "\n",
    "account = Account(\"Steve\", 1000)\n",
    "account.deposit(500)\n",
    "account.withdraw(300)\n",
    "account.withdraw(1500)"
   ]
  },
  {
   "cell_type": "markdown",
   "metadata": {},
   "source": [
    "1.6 Filtering prime numbers"
   ]
  },
  {
   "cell_type": "code",
   "execution_count": 7,
   "metadata": {},
   "outputs": [
    {
     "name": "stdout",
     "output_type": "stream",
     "text": [
      "Простые числа: [2, 3, 5, 7, 11]\n"
     ]
    }
   ],
   "source": [
    "is_prime = lambda x: x > 1 and all(x % i != 0 for i in range(2, int(x**0.5) + 1))\n",
    "\n",
    "numbers = [2, 3, 4, 5, 6, 7, 8, 9, 10, 11, 12]\n",
    "\n",
    "prime_numbers = list(filter(is_prime, numbers))\n",
    "print(f\"Простые числа: {prime_numbers}\")"
   ]
  },
  {
   "cell_type": "markdown",
   "metadata": {},
   "source": [
    "# Python Function 1"
   ]
  },
  {
   "cell_type": "markdown",
   "metadata": {},
   "source": [
    "2.1 function grams to ounces"
   ]
  },
  {
   "cell_type": "code",
   "execution_count": 1,
   "metadata": {},
   "outputs": [
    {
     "name": "stdout",
     "output_type": "stream",
     "text": [
      "Вес в унциях: 708.7379999999999\n"
     ]
    }
   ],
   "source": [
    "def grams_to_ounces(grams):\n",
    "    return grams * 28.34952\n",
    "\n",
    "a = int(input(\"Введите вес в граммах: \"))\n",
    "print(f\"Вес в унциях: {grams_to_ounces(a)}\")"
   ]
  },
  {
   "cell_type": "markdown",
   "metadata": {},
   "source": [
    "2.2 function Farenheit temperature="
   ]
  },
  {
   "cell_type": "code",
   "execution_count": 2,
   "metadata": {},
   "outputs": [
    {
     "name": "stdout",
     "output_type": "stream",
     "text": [
      "Температура в Цельсиях: 102.77777777777777\n"
     ]
    }
   ],
   "source": [
    "def farenheit_to_celsius(farenheit):\n",
    "    return (farenheit - 32) * 5 / 9\n",
    "\n",
    "a = int(input(\"Введите температуру в Фаренгейтах: \"))\n",
    "print(f\"Температура в Цельсиях: {farenheit_to_celsius(a)}\")"
   ]
  },
  {
   "cell_type": "markdown",
   "metadata": {},
   "source": [
    "2.3 function Classic Puzzle"
   ]
  },
  {
   "cell_type": "code",
   "execution_count": null,
   "metadata": {},
   "outputs": [
    {
     "name": "stdout",
     "output_type": "stream",
     "text": [
      "Куриц: 23, кроликов: 12\n"
     ]
    }
   ],
   "source": [
    "def solve(numheads, numlegs):\n",
    "    for i in range(numheads + 1):\n",
    "        j = numheads - i\n",
    "        if 2 * i + 4 * j == numlegs:\n",
    "            return i, j\n",
    "    return \"No solution\"\n",
    "\n",
    "def count_chicken_rabbit(numheads, numlegs):\n",
    "    solution = solve(numheads, numlegs)\n",
    "    if solution == \"No solution\":\n",
    "        print(\"No solution\")\n",
    "    else:\n",
    "        print(f\"Куриц: {solution[0]}, кроликов: {solution[1]}\")\n",
    "\n",
    "a, b = int(input(\"Введите количество голов: \")), int(input(\"Введите количество ног: \"))\n",
    "count_chicken_rabbit(a, b)"
   ]
  },
  {
   "cell_type": "markdown",
   "metadata": {},
   "source": [
    "2.4 function Prime Numbers"
   ]
  },
  {
   "cell_type": "code",
   "execution_count": 15,
   "metadata": {},
   "outputs": [
    {
     "name": "stdout",
     "output_type": "stream",
     "text": [
      "Простые числа: [2, 3, 5, 7, 11, 23]\n"
     ]
    }
   ],
   "source": [
    "def prime(numbers):\n",
    "    return [x for x in numbers if all(x % i != 0 for i in range(2, int(x**0.5) + 1))]\n",
    "numbers = [2, 3, 4, 5, 6, 7, 8, 9, 10, 11, 12, 1000000, 124, 123, 23, 1000001]\n",
    "print(f\"Простые числа: {prime(numbers)}\")"
   ]
  },
  {
   "cell_type": "markdown",
   "metadata": {},
   "source": [
    "2.5 function permutation of string"
   ]
  },
  {
   "cell_type": "code",
   "execution_count": 16,
   "metadata": {},
   "outputs": [
    {
     "name": "stdout",
     "output_type": "stream",
     "text": [
      "Возможные перестановки: [('A', 'B', 'C'), ('A', 'C', 'B'), ('B', 'A', 'C'), ('B', 'C', 'A'), ('C', 'A', 'B'), ('C', 'B', 'A')]\n"
     ]
    }
   ],
   "source": [
    "import itertools\n",
    "\n",
    "def permute_string(string):\n",
    "    return list(itertools.permutations(string))\n",
    "s = input(\"Введите что угодно: \")\n",
    "print(f\"Возможные перестановки: {permute_string(s)}\")"
   ]
  },
  {
   "cell_type": "markdown",
   "metadata": {},
   "source": [
    "2.6 function permutation of words"
   ]
  },
  {
   "cell_type": "code",
   "execution_count": 18,
   "metadata": {},
   "outputs": [
    {
     "name": "stdout",
     "output_type": "stream",
     "text": [
      "Возможные перестановки: [('ABS',)]\n"
     ]
    }
   ],
   "source": [
    "def permute_words(words):\n",
    "    return list(itertools.permutations(words))\n",
    "words = input(\"Введите слова через пробел: \").split()\n",
    "print(f\"Возможные перестановки: {permute_words(words)}\")"
   ]
  },
  {
   "cell_type": "markdown",
   "metadata": {},
   "source": [
    "2.7 function container with 3 number"
   ]
  },
  {
   "cell_type": "code",
   "execution_count": 19,
   "metadata": {},
   "outputs": [
    {
     "name": "stdout",
     "output_type": "stream",
     "text": [
      "True\n",
      "False\n",
      "False\n"
     ]
    }
   ],
   "source": [
    "def has_33(numbers):\n",
    "    for i in range(len(numbers) - 1):\n",
    "        if numbers[i] == 3 and numbers[i + 1] == 3:\n",
    "            return True\n",
    "    return False\n",
    "\n",
    "print(has_33([1, 3, 3]))\n",
    "print(has_33([1, 3, 1, 3]))\n",
    "print(has_33([3, 1, 3]))"
   ]
  },
  {
   "cell_type": "markdown",
   "metadata": {},
   "source": [
    "2.8 function with spy"
   ]
  },
  {
   "cell_type": "code",
   "execution_count": 21,
   "metadata": {},
   "outputs": [
    {
     "name": "stdout",
     "output_type": "stream",
     "text": [
      "True True False\n"
     ]
    }
   ],
   "source": [
    "def spy_game(numbers):\n",
    "    code = [0, 0, 7, 'x']\n",
    "    for num in numbers:\n",
    "        if num == code[0]:\n",
    "            code.pop(0)\n",
    "    return len(code) == 1\n",
    "\n",
    "print(\n",
    "spy_game([1,2,4,0,0,7,5]), \n",
    "spy_game([1,0,2,4,0,5,7]),\n",
    "spy_game([1,7,2,0,4,5,0])\n",
    ")"
   ]
  },
  {
   "cell_type": "markdown",
   "metadata": {},
   "source": [
    "2.9 function volume of sphere"
   ]
  },
  {
   "cell_type": "code",
   "execution_count": 22,
   "metadata": {},
   "outputs": [
    {
     "name": "stdout",
     "output_type": "stream",
     "text": [
      "Объем сферы: 523.3333333333334\n"
     ]
    }
   ],
   "source": [
    "def volume_sphere(radius):\n",
    "    return 4 / 3 * 3.14 * radius ** 3\n",
    "\n",
    "a = int(input(\"Введите радиус сферы: \"))\n",
    "print(f\"Объем сферы: {volume_sphere(a)}\")"
   ]
  },
  {
   "cell_type": "markdown",
   "metadata": {},
   "source": [
    "2.10 function unique numbers"
   ]
  },
  {
   "cell_type": "code",
   "execution_count": 23,
   "metadata": {},
   "outputs": [
    {
     "name": "stdout",
     "output_type": "stream",
     "text": [
      "[1, 2, 3, 4, 5] [1, 2, 3, 4, 5]\n"
     ]
    }
   ],
   "source": [
    "def unique_list(lst):\n",
    "    unique = []\n",
    "    for i in lst:\n",
    "        if i not in unique:\n",
    "            unique.append(i)\n",
    "    return unique\n",
    "\n",
    "list1 = [1, 2, 3, 3, 3, 3, 4, 5]\n",
    "list2 = [1, 1, 1, 1, 2, 2, 3, 3, 3, 3, 4, 5]\n",
    "\n",
    "print(unique_list(list1), unique_list(list2))"
   ]
  },
  {
   "cell_type": "markdown",
   "metadata": {},
   "source": [
    "2.11 function palindrom"
   ]
  },
  {
   "cell_type": "code",
   "execution_count": null,
   "metadata": {},
   "outputs": [
    {
     "name": "stdout",
     "output_type": "stream",
     "text": [
      "False\n"
     ]
    }
   ],
   "source": [
    "def palindrome(string):\n",
    "    return string == string[::-1]\n",
    "\n",
    "s = input(\"Введите строку: \")\n",
    "print(f\"{palindrome(s)}\")"
   ]
  },
  {
   "cell_type": "markdown",
   "metadata": {},
   "source": [
    "2.12 function histogram"
   ]
  },
  {
   "cell_type": "code",
   "execution_count": 27,
   "metadata": {},
   "outputs": [
    {
     "name": "stdout",
     "output_type": "stream",
     "text": [
      "****\n",
      "*********\n",
      "*******\n"
     ]
    }
   ],
   "source": [
    "def histogram(items):\n",
    "    for n in items:\n",
    "        output = \"\"\n",
    "        times = n\n",
    "        while times > 0:\n",
    "            output += \"*\"\n",
    "            times -= 1\n",
    "        print(output)\n",
    "\n",
    "histogram([4, 9, 7])"
   ]
  },
  {
   "cell_type": "markdown",
   "metadata": {},
   "source": [
    "2.13 function Guess the Number"
   ]
  },
  {
   "cell_type": "code",
   "execution_count": 30,
   "metadata": {},
   "outputs": [
    {
     "name": "stdout",
     "output_type": "stream",
     "text": [
      "Hello 9, i'm thinking of a number between 1 and 20.\n",
      "your number is too high\n",
      "your number is too high\n",
      "your number is too high\n",
      "your number is too high\n",
      "Good job 9! You guessed my number in 5 guesses!\n"
     ]
    }
   ],
   "source": [
    "def guess_number(name):\n",
    "    import random\n",
    "    number = random.randint(1, 20)\n",
    "    guess = 0\n",
    "    count = 0\n",
    "    while guess != number and guess != \"exit\":\n",
    "        guess = input(\"Take a guess: \")\n",
    "        if guess == \"exit\":\n",
    "            break\n",
    "        guess = int(guess)\n",
    "        count += 1\n",
    "        if guess < number:\n",
    "            print(\"your number is too low\")\n",
    "        elif guess > number:\n",
    "            print(\"your number is too high\")\n",
    "        else:\n",
    "            print(f\"Good job {name}! You guessed my number in {count} guesses!\")\n",
    "\n",
    "name = input(\"What is your name? \")\n",
    "print(f\"Hello {name}, i'm thinking of a number between 1 and 20.\")\n",
    "guess_number(name)"
   ]
  },
  {
   "cell_type": "markdown",
   "metadata": {},
   "source": [
    "2.14 Comments"
   ]
  },
  {
   "cell_type": "code",
   "execution_count": 31,
   "metadata": {},
   "outputs": [],
   "source": [
    "#Complete all this taks\n",
    "#by Mansur\n",
    "#instagram: @mierco"
   ]
  },
  {
   "cell_type": "markdown",
   "metadata": {},
   "source": [
    "# Python Function 2"
   ]
  },
  {
   "cell_type": "markdown",
   "metadata": {},
   "source": [
    "dictionary of movies"
   ]
  },
  {
   "cell_type": "code",
   "execution_count": 32,
   "metadata": {},
   "outputs": [],
   "source": [
    "movies = [\n",
    "{\n",
    "\"name\": \"Usual Suspects\", \n",
    "\"imdb\": 7.0,\n",
    "\"category\": \"Thriller\"\n",
    "},\n",
    "{\n",
    "\"name\": \"Hitman\",\n",
    "\"imdb\": 6.3,\n",
    "\"category\": \"Action\"\n",
    "},\n",
    "{\n",
    "\"name\": \"Dark Knight\",\n",
    "\"imdb\": 9.0,\n",
    "\"category\": \"Adventure\"\n",
    "},\n",
    "{\n",
    "\"name\": \"The Help\",\n",
    "\"imdb\": 8.0,\n",
    "\"category\": \"Drama\"\n",
    "},\n",
    "{\n",
    "\"name\": \"The Choice\",\n",
    "\"imdb\": 6.2,\n",
    "\"category\": \"Romance\"\n",
    "},\n",
    "{\n",
    "\"name\": \"Colonia\",\n",
    "\"imdb\": 7.4,\n",
    "\"category\": \"Romance\"\n",
    "},\n",
    "{\n",
    "\"name\": \"Love\",\n",
    "\"imdb\": 6.0,\n",
    "\"category\": \"Romance\"\n",
    "},\n",
    "{\n",
    "\"name\": \"Bride Wars\",\n",
    "\"imdb\": 5.4,\n",
    "\"category\": \"Romance\"\n",
    "},\n",
    "{\n",
    "\"name\": \"AlphaJet\",\n",
    "\"imdb\": 3.2,\n",
    "\"category\": \"War\"\n",
    "},\n",
    "{\n",
    "\"name\": \"Ringing Crime\",\n",
    "\"imdb\": 4.0,\n",
    "\"category\": \"Crime\"\n",
    "},\n",
    "{\n",
    "\"name\": \"Joking muck\",\n",
    "\"imdb\": 7.2,\n",
    "\"category\": \"Comedy\"\n",
    "},\n",
    "{\n",
    "\"name\": \"What is the name\",\n",
    "\"imdb\": 9.2,\n",
    "\"category\": \"Suspense\"\n",
    "},\n",
    "{\n",
    "\"name\": \"Detective\",\n",
    "\"imdb\": 7.0,\n",
    "\"category\": \"Suspense\"\n",
    "},\n",
    "{\n",
    "\"name\": \"Exam\",\n",
    "\"imdb\": 4.2,\n",
    "\"category\": \"Thriller\"\n",
    "},\n",
    "{\n",
    "\"name\": \"We Two\",\n",
    "\"imdb\": 7.2,\n",
    "\"category\": \"Romance\"\n",
    "}\n",
    "]"
   ]
  },
  {
   "cell_type": "markdown",
   "metadata": {},
   "source": [
    "3.1 function imdb above 5.5"
   ]
  },
  {
   "cell_type": "code",
   "execution_count": 35,
   "metadata": {},
   "outputs": [
    {
     "name": "stdout",
     "output_type": "stream",
     "text": [
      "True\n"
     ]
    }
   ],
   "source": [
    "def imdb_rating(movies):\n",
    "    if(list(filter(lambda x: x[\"imdb\"] > 5.5, movies))):\n",
    "        return True\n",
    "    \n",
    "print(imdb_rating(movies))"
   ]
  },
  {
   "cell_type": "markdown",
   "metadata": {},
   "source": [
    "3.2 function imdb above 5.5 list"
   ]
  },
  {
   "cell_type": "code",
   "execution_count": 36,
   "metadata": {},
   "outputs": [
    {
     "name": "stdout",
     "output_type": "stream",
     "text": [
      "[{'name': 'Usual Suspects', 'imdb': 7.0, 'category': 'Thriller'}, {'name': 'Hitman', 'imdb': 6.3, 'category': 'Action'}, {'name': 'Dark Knight', 'imdb': 9.0, 'category': 'Adventure'}, {'name': 'The Help', 'imdb': 8.0, 'category': 'Drama'}, {'name': 'The Choice', 'imdb': 6.2, 'category': 'Romance'}, {'name': 'Colonia', 'imdb': 7.4, 'category': 'Romance'}, {'name': 'Love', 'imdb': 6.0, 'category': 'Romance'}, {'name': 'Joking muck', 'imdb': 7.2, 'category': 'Comedy'}, {'name': 'What is the name', 'imdb': 9.2, 'category': 'Suspense'}, {'name': 'Detective', 'imdb': 7.0, 'category': 'Suspense'}, {'name': 'We Two', 'imdb': 7.2, 'category': 'Romance'}]\n"
     ]
    }
   ],
   "source": [
    "def imdb_rating_list(movies):\n",
    "    return list(filter(lambda x: x[\"imdb\"] > 5.5, movies))\n",
    "\n",
    "print(imdb_rating_list(movies))"
   ]
  },
  {
   "cell_type": "markdown",
   "metadata": {},
   "source": [
    "3.3 function for find category"
   ]
  },
  {
   "cell_type": "code",
   "execution_count": 40,
   "metadata": {},
   "outputs": [
    {
     "name": "stdout",
     "output_type": "stream",
     "text": [
      "[{'name': 'The Choice', 'imdb': 6.2, 'category': 'Romance'}, {'name': 'Colonia', 'imdb': 7.4, 'category': 'Romance'}, {'name': 'Love', 'imdb': 6.0, 'category': 'Romance'}, {'name': 'Bride Wars', 'imdb': 5.4, 'category': 'Romance'}, {'name': 'We Two', 'imdb': 7.2, 'category': 'Romance'}]\n"
     ]
    }
   ],
   "source": [
    "def find_category(movies, category):\n",
    "    return list(filter(lambda x: x[\"category\"] == category, movies))\n",
    "\n",
    "print(find_category(movies, \"Romance\"))"
   ]
  },
  {
   "cell_type": "markdown",
   "metadata": {},
   "source": [
    "3.4 function list of movies average imdb"
   ]
  },
  {
   "cell_type": "code",
   "execution_count": 41,
   "metadata": {},
   "outputs": [
    {
     "name": "stdout",
     "output_type": "stream",
     "text": [
      "6.486666666666666\n"
     ]
    }
   ],
   "source": [
    "def average_imdb(movies):\n",
    "    return sum([x[\"imdb\"] for x in movies]) / len(movies)\n",
    "\n",
    "print(average_imdb(movies))"
   ]
  },
  {
   "cell_type": "markdown",
   "metadata": {},
   "source": [
    "3.5 function for find average imdb in this category"
   ]
  },
  {
   "cell_type": "code",
   "execution_count": 42,
   "metadata": {},
   "outputs": [
    {
     "name": "stdout",
     "output_type": "stream",
     "text": [
      "Average imdb rating for Crime: 4.0\n",
      "Average imdb rating for Action: 6.3\n",
      "Average imdb rating for Drama: 8.0\n",
      "Average imdb rating for Adventure: 9.0\n",
      "Average imdb rating for Thriller: 5.6\n",
      "Average imdb rating for War: 3.2\n",
      "Average imdb rating for Suspense: 8.1\n",
      "Average imdb rating for Comedy: 7.2\n",
      "Average imdb rating for Romance: 6.44\n"
     ]
    }
   ],
   "source": [
    "def average_imdb_category(movies):\n",
    "    categories = list(set([x[\"category\"] for x in movies]))\n",
    "    for category in categories:\n",
    "        movies_category = find_category(movies, category)\n",
    "        print(f\"Average imdb rating for {category}: {average_imdb(movies_category)}\")\n",
    "\n",
    "average_imdb_category(movies)"
   ]
  }
 ],
 "metadata": {
  "kernelspec": {
   "display_name": "Python 3",
   "language": "python",
   "name": "python3"
  },
  "language_info": {
   "codemirror_mode": {
    "name": "ipython",
    "version": 3
   },
   "file_extension": ".py",
   "mimetype": "text/x-python",
   "name": "python",
   "nbconvert_exporter": "python",
   "pygments_lexer": "ipython3",
   "version": "3.12.3"
  }
 },
 "nbformat": 4,
 "nbformat_minor": 2
}
